{
 "cells": [
  {
   "cell_type": "code",
   "execution_count": 28,
   "id": "3eb4005e-19c4-4d6b-899d-f3c63deb209e",
   "metadata": {},
   "outputs": [],
   "source": [
    "import cv2"
   ]
  },
  {
   "cell_type": "code",
   "execution_count": 40,
   "id": "db2e5116-7aa0-4275-83d9-f16a868ebe60",
   "metadata": {},
   "outputs": [],
   "source": [
    "faceCascade = cv2.CascadeClassifier(\"haarcascade_frontalface_default.xml\")\n",
    "img = cv2.imread(\"images/no mask.jpeg\")\n",
    "image = cv2.resize(img, (1240, 640))\n"
   ]
  },
  {
   "cell_type": "code",
   "execution_count": 41,
   "id": "07c9258e-e045-4529-8f34-ac2e70d2a1a7",
   "metadata": {},
   "outputs": [],
   "source": [
    "# Convert to grayScale\n",
    "img_gray = cv2.cvtColor(img, cv2.COLOR_RGB2GRAY)"
   ]
  },
  {
   "cell_type": "code",
   "execution_count": 42,
   "id": "4c100eeb-b7fd-4a44-9f1c-c34de6fb464d",
   "metadata": {},
   "outputs": [],
   "source": [
    "cv2.imshow(\"Black and white image\", img_gray)\n",
    "cv2.imshow(\"Original Image\", img)\n",
    "cv2.waitKey(0)\n",
    "cv2.destroyAllWindows()"
   ]
  },
  {
   "cell_type": "code",
   "execution_count": 43,
   "id": "9eaac811-8d26-4160-8f42-6adb131dba1c",
   "metadata": {},
   "outputs": [],
   "source": [
    "faces = faceCascade.detectMultiScale(img_gray, 1.1, 4)"
   ]
  },
  {
   "cell_type": "code",
   "execution_count": 44,
   "id": "52761bde-f146-4ac5-83f7-c797bb0e67c6",
   "metadata": {},
   "outputs": [
    {
     "name": "stdout",
     "output_type": "stream",
     "text": [
      "Face found at x: 102, y: 53, width: 88, height: 88\n"
     ]
    }
   ],
   "source": [
    "for (x, y, width, height) in faces:\n",
    "    print(f\"Face found at x: {x}, y: {y}, width: {width}, height: {height}\")"
   ]
  },
  {
   "cell_type": "code",
   "execution_count": 45,
   "id": "bbb8c8a2-e62d-4c2d-8ee4-40a100f00cf9",
   "metadata": {},
   "outputs": [
    {
     "data": {
      "text/plain": [
       "array([[133, 133, 133, ..., 118, 118, 117],\n",
       "       [133, 133, 133, ..., 118, 118, 118],\n",
       "       [134, 134, 134, ..., 119, 118, 117],\n",
       "       ...,\n",
       "       [126, 126, 127, ..., 157, 154, 151],\n",
       "       [126, 124, 120, ..., 161, 160, 159],\n",
       "       [114, 111, 108, ..., 160, 159, 159]], dtype=uint8)"
      ]
     },
     "execution_count": 45,
     "metadata": {},
     "output_type": "execute_result"
    }
   ],
   "source": [
    "img_gray"
   ]
  },
  {
   "cell_type": "code",
   "execution_count": 46,
   "id": "eec3d2eb-c390-4a20-8e36-cb3103a73ac9",
   "metadata": {},
   "outputs": [
    {
     "data": {
      "text/plain": [
       "array([[102,  53,  88,  88]])"
      ]
     },
     "execution_count": 46,
     "metadata": {},
     "output_type": "execute_result"
    }
   ],
   "source": [
    "faces"
   ]
  },
  {
   "cell_type": "code",
   "execution_count": 48,
   "id": "93efe07d-b920-42bc-950a-c7fa8f91a74a",
   "metadata": {
    "scrolled": true
   },
   "outputs": [],
   "source": [
    "for face in faces:\n",
    "    x, y, width, height = face\n",
    "    cv2.rectangle(img, (x, y), (x + width, y + height), (0, 0, 255), 2)\n",
    "\n",
    "cv2.imshow(\"output\", img)\n",
    "cv2.waitKey(0)\n",
    "cv2.destroyAllWindows()"
   ]
  },
  {
   "cell_type": "code",
   "execution_count": null,
   "id": "289c7317-8f61-432d-bbe9-2f759874a022",
   "metadata": {},
   "outputs": [],
   "source": []
  }
 ],
 "metadata": {
  "kernelspec": {
   "display_name": "Python 3 (ipykernel)",
   "language": "python",
   "name": "python3"
  },
  "language_info": {
   "codemirror_mode": {
    "name": "ipython",
    "version": 3
   },
   "file_extension": ".py",
   "mimetype": "text/x-python",
   "name": "python",
   "nbconvert_exporter": "python",
   "pygments_lexer": "ipython3",
   "version": "3.10.4"
  }
 },
 "nbformat": 4,
 "nbformat_minor": 5
}
